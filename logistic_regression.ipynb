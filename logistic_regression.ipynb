{
 "cells": [
  {
   "cell_type": "code",
   "execution_count": null,
   "metadata": {},
   "outputs": [],
   "source": [
    "from sklearn.linear_model import LogisticRegression\n",
    "from sklearn.model_selection import train_test_split\n",
    "import numpy as np\n",
    "import pandas as pd\n",
    "import matplotlib.pyplot as plt\n",
    "import seaborn as sns\n",
    "from sklearn import metrics"
   ]
  },
  {
   "cell_type": "code",
   "execution_count": null,
   "metadata": {},
   "outputs": [],
   "source": [
    "data = pd.read_csv('Dataset.csv',sep = ',')\n",
    "data.head()"
   ]
  },
  {
   "cell_type": "code",
   "execution_count": null,
   "metadata": {},
   "outputs": [],
   "source": [
    "groups = data.groupby('y')\n",
    "\n",
    "fig, ax = plt.subplots()\n",
    "ax.margins(0.05)\n",
    "for name, group in groups:\n",
    "    ax.plot(group.x1, group.x2, marker='.', linestyle='', ms=9, label=name)\n",
    "ax.legend()\n",
    "\n",
    "plt.show()\n"
   ]
  },
  {
   "cell_type": "code",
   "execution_count": null,
   "metadata": {},
   "outputs": [],
   "source": [
    "x_train,x_test,y_train,y_test = train_test_split(data[['x1','x2']],data['y'],test_size = 0.3,random_state = 0)"
   ]
  },
  {
   "cell_type": "code",
   "execution_count": null,
   "metadata": {},
   "outputs": [],
   "source": [
    "lr1 = LogisticRegression(solver = \"sag\",max_iter = 5)\n",
    "lr2 = LogisticRegression(max_iter = 1000,solver = 'newton-cg')\n",
    "lr3 = LogisticRegression(solver = \"sag\",max_iter = 500)\n",
    "lr4 = LogisticRegression(max_iter = 5,solver = 'newton-cg')"
   ]
  },
  {
   "cell_type": "code",
   "execution_count": null,
   "metadata": {
    "scrolled": true
   },
   "outputs": [],
   "source": [
    "lr1.fit(x_train,y_train)\n",
    "lr2.fit(x_train,y_train)\n",
    "lr3.fit(x_train,y_train)\n",
    "lr4.fit(x_train,y_train)"
   ]
  },
  {
   "cell_type": "code",
   "execution_count": null,
   "metadata": {
    "scrolled": true
   },
   "outputs": [],
   "source": [
    "print(\"Model 1 Score = \",lr1.score(x_test,y_test))\n",
    "print(\"Model 2 Score = \",lr2.score(x_test,y_test))\n",
    "print(\"Model 3 Score = \",lr3.score(x_test,y_test))\n",
    "print(\"Model 4 Score = \",lr4.score(x_test,y_test))"
   ]
  },
  {
   "cell_type": "code",
   "execution_count": null,
   "metadata": {
    "scrolled": true
   },
   "outputs": [],
   "source": [
    "y_prediction1 = lr1.predict(x_test)\n",
    "df1 = pd.DataFrame({\n",
    "    \"y prediction\" : y_prediction1,\n",
    "    \"y test\" : y_test\n",
    "})\n",
    "print(\"Accuracy of 1st Model : \",len(df1[df1['y prediction'] == df1['y test'] ])/48)\n",
    "\n",
    "\n",
    "y_prediction2 = lr2.predict(x_test)\n",
    "df2 = pd.DataFrame({\n",
    "    \"y prediction\" : y_prediction2,\n",
    "    \"y test\" : y_test\n",
    "})\n",
    "print(\"Accuracy of 2nd Model : \",len(df2[df2['y prediction'] == df2['y test'] ])/48)\n",
    "\n",
    "\n",
    "y_prediction3 = lr3.predict(x_test)\n",
    "df3 = pd.DataFrame({\n",
    "    \"y prediction\" : y_prediction3,\n",
    "    \"y test\" : y_test\n",
    "})\n",
    "print(\"Accuracy of 3rd Model : \",len(df3[df3['y prediction'] == df3['y test'] ])/48)\n",
    "\n",
    "y_prediction4 = lr4.predict(x_test)\n",
    "df4 = pd.DataFrame({\n",
    "    \"y prediction\" : y_prediction4,\n",
    "    \"y test\" : y_test\n",
    "})\n",
    "print(\"Accuracy of 4th Model : \",len(df4[df4['y prediction'] == df4['y test'] ])/48)\n"
   ]
  },
  {
   "cell_type": "code",
   "execution_count": null,
   "metadata": {},
   "outputs": [],
   "source": [
    "cm1 = metrics.confusion_matrix(y_test,lr1.predict(x_test))\n",
    "cm2 = metrics.confusion_matrix(y_test, lr2.predict(x_test))\n",
    "cm3 = metrics.confusion_matrix(y_test, lr3.predict(x_test))\n",
    "cm4 = metrics.confusion_matrix(y_test, lr4.predict(x_test))"
   ]
  },
  {
   "cell_type": "code",
   "execution_count": null,
   "metadata": {},
   "outputs": [],
   "source": [
    "plt.figure(figsize=(9,9))\n",
    "sns.heatmap(cm1, annot=True,linewidths=.5, square = True, cmap = 'Blues_r');\n",
    "plt.ylabel('Actual label');\n",
    "plt.xlabel('Predicted label');\n",
    "all_sample_title = 'Accuracy Score: {0}'.format(lr1.score)\n",
    "plt.title(\"Logistic Regression Model - Confusion Matrix (Model 1)\", size = 12);\n",
    "\n",
    "plt.figure(figsize=(9,9))\n",
    "sns.heatmap(cm2, annot=True,linewidths=.5, square = True, cmap = 'Purples');\n",
    "plt.ylabel('Actual label');\n",
    "plt.xlabel('Predicted label');\n",
    "all_sample_title = 'Accuracy Score: {0}'.format(lr2.score)\n",
    "plt.title(\"Logistic Regression Model - Confusion Matrix (Model 2)\", size = 12);\n",
    "\n",
    "plt.figure(figsize=(9,9))\n",
    "sns.heatmap(cm2, annot=True,linewidths=.5, square = True, cmap = 'YlOrBr');\n",
    "plt.ylabel('Actual label');\n",
    "plt.xlabel('Predicted label');\n",
    "all_sample_title = 'Accuracy Score: {0}'.format(lr3.score)\n",
    "plt.title(\"Logistic Regression Model - Confusion Matrix (Model 3)\", size = 12);\n",
    "\n",
    "plt.figure(figsize=(9,9))\n",
    "sns.heatmap(cm2, annot=True,linewidths=.5, square = True, cmap = 'PuBuGn');\n",
    "plt.ylabel('Actual label');\n",
    "plt.xlabel('Predicted label');\n",
    "all_sample_title = 'Accuracy Score: {0}'.format(lr4.score)\n",
    "plt.title(\"Logistic Regression Model - Confusion Matrix (Model 4)\", size = 12);\n"
   ]
  }
 ],
 "metadata": {
  "kernelspec": {
   "display_name": "Python 3",
   "language": "python",
   "name": "python3"
  },
  "language_info": {
   "codemirror_mode": {
    "name": "ipython",
    "version": 3
   },
   "file_extension": ".py",
   "mimetype": "text/x-python",
   "name": "python",
   "nbconvert_exporter": "python",
   "pygments_lexer": "ipython3",
   "version": "3.8.3"
  }
 },
 "nbformat": 4,
 "nbformat_minor": 2
}
